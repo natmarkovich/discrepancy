{
  "nbformat": 4,
  "nbformat_minor": 0,
  "metadata": {
    "colab": {
      "provenance": [],
      "collapsed_sections": []
    },
    "kernelspec": {
      "name": "python3",
      "display_name": "Python 3"
    },
    "language_info": {
      "name": "python"
    }
  },
  "cells": [
    {
      "cell_type": "markdown",
      "source": [
        "This is the code for the parameter-free threshold selection algorithm for extremal index estimation proposed by Markovich and Rodionov (2022). The result of the algorithm is an extremal index estimate. Please, follow the instructions below."
      ],
      "metadata": {
        "id": "U55KSA8ExC_U"
      }
    },
    {
      "cell_type": "code",
      "source": [
        "#Here we import some necessary libraries. Please, run this cell.\n",
        "import numpy as np\n",
        "import warnings\n",
        "warnings.filterwarnings(\"ignore\")"
      ],
      "metadata": {
        "id": "iLdD6dnTxj_E"
      },
      "execution_count": 44,
      "outputs": []
    },
    {
      "cell_type": "code",
      "source": [
        "#Please, upload a csv-file with your data here. This csv should contain an one-dimensional array of real numbers.\n",
        "from google.colab import files\n",
        "uploaded = files.upload()"
      ],
      "metadata": {
        "id": "gDBq-rGNypS7"
      },
      "execution_count": 1,
      "outputs": []
    },
    {
      "cell_type": "code",
      "source": [
        "#Please, write the name of the uploaded file in quotes below. Example: myfile.csv\n",
        "data = pd.read_csv(\"\", sep = \";\", index_col=False)"
      ],
      "metadata": {
        "id": "50G9unagz1YG"
      },
      "execution_count": 40,
      "outputs": []
    },
    {
      "cell_type": "code",
      "source": [
        "#In this cell, the intervals and K-gaps estimators of the extremal index are implemented. Also, we implement here the algorithm for calulating\n",
        "#inter-exceedance times, see Section 2, before (4), in Markovich and Rodionov (2022). Please, run this cell.\n",
        "\n",
        "def inter_exceedance_times(sample, level):\n",
        "\n",
        "        sample_len = len(sample)\n",
        "        S_previous = 0\n",
        "        T = []\n",
        "        flag = 0\n",
        "\n",
        "        for i in np.arange(sample_len):\n",
        "            if flag == 0:\n",
        "                if sample[i] > level:\n",
        "                    flag = 1\n",
        "                    S_previous = i\n",
        "            else:\n",
        "                if sample[i] > level:\n",
        "                    T.append(i - S_previous)\n",
        "                    S_previous = i\n",
        "\n",
        "        return np.array(T)\n",
        "\n",
        "def intervals_estimator(T): \n",
        "\n",
        "    #Here, the intervals estimator is implemented, see (4) in Markovich and Rodionov (2022), T is an array of inter-exceedance times\n",
        "    if np.max(T) <= 2:\n",
        "            theta = min(1, (2 * (np.mean(T)) ** 2) / (np.mean(T ** 2)))\n",
        "    else:\n",
        "            theta = min(1, (2 * (np.mean(T - 1)) ** 2) / (np.mean(np.multiply((T - 1), (T - 2)))))\n",
        "\n",
        "    return theta\n",
        "\n",
        "def Kgaps_estimator(Y, N_C, L):\n",
        "\n",
        "    #Here, the K-gaps estimator is implemented, see (6) in Markovich and Rodionov (2022), Y are the normalized K-gaps\n",
        "    a = L - N_C\n",
        "    b = 2 * N_C\n",
        "    c = np.sum(Y)\n",
        "    theta = 0.5 * ((a + b) / c + 1 - (((a + b) / c + 1) ** 2 - 4 * b / c) ** 0.5)\n",
        "\n",
        "    return theta"
      ],
      "metadata": {
        "id": "DzmQruMz1Rp2"
      },
      "execution_count": 5,
      "outputs": []
    },
    {
      "cell_type": "code",
      "source": [
        "#Here, we implement the Algorithm 1 for the intervals and K-gaps estimators. Please, run this cell.\n",
        "def discrepancy_intervals(data, val_num, quantiles_levels):\n",
        "\n",
        "    q_len = len(quantiles_levels)\n",
        "    #delta_2 is used in the third step of the Algorithm 1, see formula (16).\n",
        "    delta_2 = 1.49\n",
        "\n",
        "    thetas = np.zeros(q_len)\n",
        "    levels_opt = np.zeros(q_len)\n",
        "    thetas_opt = np.zeros(q_len)\n",
        "\n",
        "    for u_c in np.arange(q_len):\n",
        "        #Implementation of the first step of the Algorithm 1\n",
        "        level = np.percentile(data, quantiles_levels[u_c])\n",
        "        T = inter_exceedance_times(data, level)\n",
        "        L = len(T)\n",
        "        if L == 0:\n",
        "          break\n",
        "        Y = (L + 1) * T / len(data)\n",
        "        Z = np.sort(Y)\n",
        "\n",
        "        #Here, we calculate a pilot intervals estimate and k, implementing the second step of the Algorithm 1\n",
        "        thetas[u_c] = intervals_estimator(T)\n",
        "        k = int(np.floor(thetas[u_c] * L)) \n",
        "        #Other options for k are [min(sqrt(L),theta(u_c)*L)] and [(log(L))^2], but we recommend to use the option in the previous line\n",
        "\n",
        "        if thetas[u_c] == 1:\n",
        "            k = L \n",
        "        if L > 1:\n",
        "            Z_0 = Z[L - k - 1]\n",
        "        else:\n",
        "            Z_0 = 0\n",
        "\n",
        "        #Here, implementing step 3 of the Algorithm, we calculate the omega-squared statistic and compare its value with delta_2\n",
        "        if k > 0:\n",
        "            omega_squared = 1 / (12 * k)\n",
        "            for j in np.arange(k):\n",
        "                omega_squared += (1 - np.exp(- thetas[u_c] * (Z[L - k + j] - Z_0)) - (j + 0.5) / k) ** 2\n",
        "\n",
        "            if L < 40:\n",
        "                omega_squared = (omega_squared - 0.4 / L + 0.6 / L ** 2) * (1 + 1 / L)\n",
        "\n",
        "            if omega_squared <= delta_2:\n",
        "                levels_opt[u_c] = u_c\n",
        "                thetas_opt[u_c] = thetas[u_c]\n",
        "\n",
        "    #Finally, we implement the fourth step of the Algorithm 1\n",
        "    if np.sum(thetas_opt != 0) == 0:\n",
        "        return 0\n",
        "    else:\n",
        "        b = thetas_opt[thetas_opt != 0]\n",
        "        c = levels_opt[levels_opt != 0]\n",
        "        if val_num == 1:\n",
        "            return np.mean(b)\n",
        "        elif val_num == 2:       \n",
        "            c_min = np.min(c)\n",
        "            return thetas_opt[int(c_min)]\n",
        "        elif val_num == 3:\n",
        "            c_max = np.max(c)\n",
        "            return thetas_opt[int(c_max)]\n",
        "\n",
        "\n",
        "def discrepancy_Kgaps(data, val_num, quantiles_levels):\n",
        "    q_len = len(quantiles_levels)\n",
        "    #delta_2 is used in the third step of the Algorithm 1, see formula (16).\n",
        "    delta_2 = 1.49\n",
        "    # It is a standard value of maximal K for K-gaps estimator, see Suveges and Davison (2010) or Remark 4 in Markovich and Rodionov (2022) \n",
        "    K_max = 20\n",
        "\n",
        "    thetas = np.zeros(q_len)\n",
        "    thetas_Kgaps = np.zeros((K_max, q_len))\n",
        "    levels_opt = np.zeros((K_max, q_len))\n",
        "    K_opt = np.zeros((K_max, q_len))\n",
        "    thetas_opt = np.zeros((K_max, q_len))\n",
        "\n",
        "    for u_c in np.arange(q_len):\n",
        "        level = np.percentile(data, quantiles_levels[u_c])\n",
        "        flag = 0\n",
        "        \n",
        "        #Implementation of the first step of the Algorithm 1, see also Remark 4 in Markovich and Rodionov (2022)\n",
        "        level = np.percentile(data, quantiles_levels[u_c])\n",
        "        T = inter_exceedance_times(data, level)\n",
        "        n = len(T) + 1\n",
        "        if n == 1:\n",
        "          break \n",
        "        N = len(data) \n",
        "        #Here, we calculate a pilot intervals estimate, implementing the second step of the Algorithm 1; k is calculated below\n",
        "        thetas[u_c] = intervals_estimator(T)\n",
        "\n",
        "        for K in np.arange(1, K_max + 1):\n",
        "            S = np.where(T > K, T - K, 0)\n",
        "            Y = n * S / N\n",
        "            Z = np.sort(Y)\n",
        "            L = len(Y)\n",
        "            N_C = len(Y[Y != 0])\n",
        "\n",
        "            k = int(np.floor(thetas[u_c] * L))\n",
        "            if k >= L:\n",
        "                k = L\n",
        "            if L > 1:\n",
        "                Z_0 = Z[L - k - 1]\n",
        "            else:\n",
        "                Z_0 = 0\n",
        "\n",
        "            #Here, implementing step 3 of the Algorithm, we calculate the omega-squared statistic and compare its value with delta_2\n",
        "            #Note that we use here K-gaps estimator instead of intervals estimator\n",
        "            if k > 0:\n",
        "                thetas_Kgaps[K - 1, u_c] = Kgaps_estimator(Y, N_C, L)\n",
        "                omega_squared = 1 / (12 * k)\n",
        "                for j in np.arange(k):\n",
        "                    omega_squared += (1 - np.exp(- thetas_Kgaps[K - 1, u_c] * (Z[L - k + j] - Z_0)) - (j + 0.5) / k) ** 2\n",
        "\n",
        "                if L < 40:\n",
        "                    omega_squared = (omega_squared - 0.4 / L + 0.6 / L ** 2) * (1 + 1 / L)\n",
        "\n",
        "                if omega_squared <= delta_2:\n",
        "                    levels_opt[K - 1, u_c] = u_c\n",
        "                    K_opt[K - 1, u_c] = K\n",
        "                    thetas_opt[K - 1, u_c] = thetas_Kgaps[K - 1, u_c]\n",
        "                else:\n",
        "                    levels_opt[K - 1, u_c] = np.NAN\n",
        "                    K_opt[K - 1, u_c] = np.NAN\n",
        "    #Finally, we implement the fourth step of the Algorithm 1 with necessary changes\n",
        "    if np.sum(thetas_opt != 0) == 0:\n",
        "        return 0\n",
        "    else:\n",
        "        if val_num == 1:\n",
        "            b = thetas_opt[thetas_opt != 0]\n",
        "            return np.nanmean(b)\n",
        "        elif val_num == 2:\n",
        "            c_min = np.nanmin(levels_opt)\n",
        "            return np.nanmean(thetas_opt[:, int(c_min)])\n",
        "        elif val_num == 3:\n",
        "            c_max = np.nanmax(levels_opt)\n",
        "            return np.nanmean(thetas_opt[:, int(c_max)])"
      ],
      "metadata": {
        "id": "9g7j1IkpcxbL"
      },
      "execution_count": 28,
      "outputs": []
    },
    {
      "cell_type": "code",
      "source": [
        "#Here, you can choose between two options: run the Algorithm 1 by Markovich and Rodionov (2022) with either the intervals or the K-gaps estimator.\n",
        "#If you choose the intervals estimator, please set est_num = 1, if K-gaps, then set est_num = 2. We recommend to use the second option.\n",
        "est_num = 2\n",
        "\n",
        "#At the end of Algorithm 1, there are three options for the final value of the estimator, see formula (15) in Markovich and Rodionov (2022).\n",
        "#Please, specify, which one you want to use: set val_num = 1, if you select theta_1 (average); val_num = 2, if you select theta_2 (estimate with \n",
        "#minimal threshold level), val_num = 3, if you select theta_3 (estimate with maximal threshold level). We recommend to use the first option.\n",
        "val_num = 1\n",
        "\n",
        "#Here we set the quantile levels which are defined in the first step of the Algorithm 1. You can set another values, if it is necessary.\n",
        "quantiles_levels = np.array([90, 90.5, 91, 91.5, 92, 92.5, 93, 93.5, 94, 94.5, 95, 95.5, 96, 96.5, 97, 97.5, 98, 98.5, 99, 99.5])"
      ],
      "metadata": {
        "id": "9XqDrUw0HA8B"
      },
      "execution_count": 42,
      "outputs": []
    },
    {
      "cell_type": "code",
      "source": [
        "# Please, run this cell to get the extremal index estimate\n",
        "if est_num == 1:\n",
        "    print(\"The extremal index is\", discrepancy_intervals(data, val_num, quantiles_levels))\n",
        "elif est_num == 2:\n",
        "    print(\"The extremal index is\", discrepancy_Kgaps(data, val_num, quantiles_levels))\n"
      ],
      "metadata": {
        "colab": {
          "base_uri": "https://localhost:8080/"
        },
        "id": "5zM3OEySfVji",
        "outputId": "b5bf3d56-ba10-476a-edb4-cdaaf0e0ce72"
      },
      "execution_count": 45,
      "outputs": [
        {
          "output_type": "stream",
          "name": "stdout",
          "text": [
            "The extremal index is 0.9028651582294737\n"
          ]
        }
      ]
    }
  ]
}